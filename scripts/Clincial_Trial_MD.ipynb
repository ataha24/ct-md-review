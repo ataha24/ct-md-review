{
  "nbformat": 4,
  "nbformat_minor": 0,
  "metadata": {
    "colab": {
      "provenance": []
    },
    "kernelspec": {
      "name": "python3",
      "display_name": "Python 3"
    },
    "language_info": {
      "name": "python"
    }
  },
  "cells": [
    {
      "cell_type": "code",
      "source": [
        "#repos\n",
        "!git clone https://github.com/ataha24/ct-md-review.git\n",
        "\n",
        "#libs\n",
        "import pandas as pd\n",
        "from datetime import datetime\n",
        "import glob\n",
        "from xml.etree import ElementTree as ET"
      ],
      "metadata": {
        "colab": {
          "base_uri": "https://localhost:8080/"
        },
        "id": "4506R6MKBSxu",
        "outputId": "b6590c03-c4ae-4508-9158-218329a8ff88"
      },
      "execution_count": 1,
      "outputs": [
        {
          "output_type": "stream",
          "name": "stdout",
          "text": [
            "Cloning into 'ct-md-review'...\n",
            "remote: Enumerating objects: 197, done.\u001b[K\n",
            "remote: Counting objects: 100% (197/197), done.\u001b[K\n",
            "remote: Compressing objects: 100% (91/91), done.\u001b[K\n",
            "remote: Total 197 (delta 141), reused 161 (delta 105), pack-reused 0\u001b[K\n",
            "Receiving objects: 100% (197/197), 6.05 MiB | 11.01 MiB/s, done.\n",
            "Resolving deltas: 100% (141/141), done.\n"
          ]
        }
      ]
    },
    {
      "cell_type": "markdown",
      "source": [
        "#ICTRP Clinical Trials"
      ],
      "metadata": {
        "id": "n2sJi6AyplSr"
      }
    },
    {
      "cell_type": "code",
      "source": [
        "#Please refer to supplementary material which outlines how the following raw files were genereated alongside key terms used to generate them\n",
        "path_ctrp = '/content/ct-md-review/new_search_03012024/ICTRP/'\n",
        "all_files_ctrp = sorted(glob.glob(path_ctrp + \"*.csv\"))\n",
        "\n",
        "li_ctrp = []\n",
        "\n",
        "for filename in all_files_ctrp:\n",
        "    df = pd.read_csv(filename, index_col=None, header=0)\n",
        "    print(f'{filename}: {df.shape[0]} trails')\n",
        "    li_ctrp.append(df)\n",
        "\n",
        "frame_ctrp = pd.concat(li_ctrp, axis=0, ignore_index=True)\n",
        "\n",
        "# Optionally, save the merged DataFrame to a new CSV file\n",
        "frame_ctrp[['TrialID','Date registration3']].to_csv('/content/ct-md-review/combined_ictrp.csv', index=False)"
      ],
      "metadata": {
        "colab": {
          "base_uri": "https://localhost:8080/"
        },
        "id": "3F6TI0PIMVFT",
        "outputId": "f573ff4a-bcbe-49d9-d127-fede3ce04b6f"
      },
      "execution_count": 39,
      "outputs": [
        {
          "output_type": "stream",
          "name": "stdout",
          "text": [
            "/content/ct-md-review/new_search_03012024/ICTRP/ECS_ictrp.csv: 30 trails\n",
            "/content/ct-md-review/new_search_03012024/ICTRP/ECT_ictrp.csv: 2 trails\n",
            "/content/ct-md-review/new_search_03012024/ICTRP/MST_ictrp.csv: 3 trails\n",
            "/content/ct-md-review/new_search_03012024/ICTRP/RFabla_ictrp.csv: 7 trails\n",
            "/content/ct-md-review/new_search_03012024/ICTRP/dbs_ictrp.csv: 438 trails\n",
            "/content/ct-md-review/new_search_03012024/ICTRP/gammaknife_ictrp.csv: 12 trails\n",
            "/content/ct-md-review/new_search_03012024/ICTRP/mgfus_ictrp.csv: 36 trails\n",
            "/content/ct-md-review/new_search_03012024/ICTRP/tACS_ictrp.csv: 15 trails\n",
            "/content/ct-md-review/new_search_03012024/ICTRP/tDCS_ictrp.csv: 121 trails\n",
            "/content/ct-md-review/new_search_03012024/ICTRP/tES_ictrp.csv: 18 trails\n",
            "/content/ct-md-review/new_search_03012024/ICTRP/tms_ictrp.csv: 161 trails\n",
            "/content/ct-md-review/new_search_03012024/ICTRP/tus_ictrp.csv: 28 trails\n",
            "/content/ct-md-review/new_search_03012024/ICTRP/vns_ictrp.csv: 12 trails\n"
          ]
        }
      ]
    },
    {
      "cell_type": "markdown",
      "source": [
        "#ClinicalTrials.gov Clinical Trials"
      ],
      "metadata": {
        "id": "wU78fZf-pr7H"
      }
    },
    {
      "cell_type": "code",
      "source": [
        "#Please refer to supplementary material which outlines how the following raw files were genereated alongside key terms used to generate them\n",
        "path = '/content/ct-md-review/new_search_03012024/clintrialsgov/'\n",
        "all_files = sorted(glob.glob(path + \"*.csv\"))\n",
        "\n",
        "li = []\n",
        "\n",
        "for filename in all_files:\n",
        "    df = pd.read_csv(filename, index_col=None, header=0)\n",
        "    print(f'{filename}: {df.shape[0]} trails')\n",
        "    li.append(df)\n",
        "\n",
        "frame = pd.concat(li, axis=0, ignore_index=True)\n",
        "\n",
        "# Optionally, save the merged DataFrame to a new CSV file\n",
        "frame[['NCT Number','First Posted']].to_csv('/content/ct-md-review/combined_nct.csv', index=False)"
      ],
      "metadata": {
        "colab": {
          "base_uri": "https://localhost:8080/"
        },
        "id": "10tVD2TjAmKB",
        "outputId": "de05a222-5498-475b-d95d-40d31b905dae"
      },
      "execution_count": 40,
      "outputs": [
        {
          "output_type": "stream",
          "name": "stdout",
          "text": [
            "/content/ct-md-review/new_search_03012024/clintrialsgov/ECS.csv: 198 trails\n",
            "/content/ct-md-review/new_search_03012024/clintrialsgov/ECT.csv: 5 trails\n",
            "/content/ct-md-review/new_search_03012024/clintrialsgov/MST.csv: 9 trails\n",
            "/content/ct-md-review/new_search_03012024/clintrialsgov/RFabla.csv: 13 trails\n",
            "/content/ct-md-review/new_search_03012024/clintrialsgov/dbs.csv: 508 trails\n",
            "/content/ct-md-review/new_search_03012024/clintrialsgov/gammaknife.csv: 15 trails\n",
            "/content/ct-md-review/new_search_03012024/clintrialsgov/lowfieldmagstim.csv: 2 trails\n",
            "/content/ct-md-review/new_search_03012024/clintrialsgov/mgfus.csv: 46 trails\n",
            "/content/ct-md-review/new_search_03012024/clintrialsgov/tACS.csv: 13 trails\n",
            "/content/ct-md-review/new_search_03012024/clintrialsgov/tDCS.csv: 125 trails\n",
            "/content/ct-md-review/new_search_03012024/clintrialsgov/tES.csv: 57 trails\n",
            "/content/ct-md-review/new_search_03012024/clintrialsgov/tms.csv: 238 trails\n",
            "/content/ct-md-review/new_search_03012024/clintrialsgov/trns.csv: 7 trails\n",
            "/content/ct-md-review/new_search_03012024/clintrialsgov/tus.csv: 32 trails\n",
            "/content/ct-md-review/new_search_03012024/clintrialsgov/vns.csv: 22 trails\n"
          ]
        }
      ]
    },
    {
      "cell_type": "markdown",
      "source": [
        "# Clean up and merge data"
      ],
      "metadata": {
        "id": "gUDziHhMueve"
      }
    },
    {
      "cell_type": "code",
      "source": [
        "#load concat trials across all diseases and treatment modalities\n",
        "df_ictrp = pd.read_csv('/content/ct-md-review/combined_ictrp.csv')\n",
        "df_nct = pd.read_csv('/content/ct-md-review/combined_nct.csv')"
      ],
      "metadata": {
        "id": "j2AqayJtJn_T"
      },
      "execution_count": 41,
      "outputs": []
    },
    {
      "cell_type": "code",
      "source": [
        "# Step 1: Remove duplicates within each DataFrame based on their unique identifiers\n",
        "\n",
        "# For the ICTRP dataset\n",
        "initial_ictrp_count = len(df_ictrp)\n",
        "df_ictrp_unique = df_ictrp.drop_duplicates(subset=['TrialID'])\n",
        "final_ictrp_count = len(df_ictrp_unique)\n",
        "\n",
        "# For the NCT dataset\n",
        "initial_nct_count = len(df_nct)\n",
        "df_nct_unique = df_nct.drop_duplicates(subset=['NCT Number'])\n",
        "final_nct_count = len(df_nct_unique)\n",
        "\n",
        "# Summary metrics for ICTRP dataset\n",
        "ictrp_summary = {\n",
        "    \"Initial Count\": initial_ictrp_count,\n",
        "    \"Final Count\": final_ictrp_count,\n",
        "    \"Duplicates Removed\": initial_ictrp_count - final_ictrp_count\n",
        "}\n",
        "\n",
        "# Summary metrics for NCT dataset\n",
        "nct_summary = {\n",
        "    \"Initial Count\": initial_nct_count,\n",
        "    \"Final Count\": final_nct_count,\n",
        "    \"Duplicates Removed\": initial_nct_count - final_nct_count\n",
        "}\n",
        "\n",
        "print(f'ICTRP: {ictrp_summary}')\n",
        "print(f'NCT: {nct_summary}')"
      ],
      "metadata": {
        "colab": {
          "base_uri": "https://localhost:8080/"
        },
        "id": "-YdgDjjjvXmL",
        "outputId": "8464e7cb-6b9f-44ab-b5a6-72b6b9afb573"
      },
      "execution_count": 42,
      "outputs": [
        {
          "output_type": "stream",
          "name": "stdout",
          "text": [
            "ICTRP: {'Initial Count': 883, 'Final Count': 812, 'Duplicates Removed': 71}\n",
            "NCT: {'Initial Count': 1290, 'Final Count': 974, 'Duplicates Removed': 316}\n"
          ]
        }
      ]
    },
    {
      "cell_type": "code",
      "source": [
        "# Step 2: Remove duplicates across two clinical trial registries (i.e., NCT and ICTRP) based on their unique identifiers\n",
        "\n",
        "# Renaming the unique identifier in df_nct to match df_ictrp for easier combination\n",
        "df_nct_renamed = df_nct_unique.rename(columns={\"NCT Number\": \"TrialID\"})\n",
        "\n",
        "# Combining the two DataFrames\n",
        "# Since they have different columns, we'll use an outer join to ensure all data is included\n",
        "combined_df = pd.concat([df_ictrp_unique, df_nct_renamed], axis=0, ignore_index=True, sort=False)\n",
        "\n",
        "# Initial combined count\n",
        "initial_combined_count = len(combined_df)\n",
        "\n",
        "# Remove duplicates across the combined DataFrame using the unified unique identifier \"TrialID\"\n",
        "combined_df_unique = combined_df.drop_duplicates(subset=['TrialID'])\n",
        "\n",
        "# Final combined count\n",
        "final_combined_count = len(combined_df_unique)\n",
        "\n",
        "# Summary metrics for the combined dataset\n",
        "combined_summary = {\n",
        "    \"Initial Combined Count\": initial_combined_count,\n",
        "    \"Final Combined Count\": final_combined_count,\n",
        "    \"Duplicates Removed Across Both NCT and ICTRP\": initial_combined_count - final_combined_count\n",
        "}\n",
        "combined_summary"
      ],
      "metadata": {
        "colab": {
          "base_uri": "https://localhost:8080/"
        },
        "id": "JY78l4EZLklM",
        "outputId": "35479ba7-c10d-4da5-9548-825d754b898f"
      },
      "execution_count": 43,
      "outputs": [
        {
          "output_type": "execute_result",
          "data": {
            "text/plain": [
              "{'Initial Combined Count': 1786,\n",
              " 'Final Combined Count': 1228,\n",
              " 'Duplicates Removed Across Both NCT and ICTRP': 558}"
            ]
          },
          "metadata": {},
          "execution_count": 43
        }
      ]
    },
    {
      "cell_type": "code",
      "source": [
        "# Function to convert date from numeric to 'YYYY-MM-DD' format to handle xml output (YYYYMMDD) from ictrp\n",
        "def convert_date(date_numeric):\n",
        "    if pd.notna(date_numeric):\n",
        "        return pd.to_datetime(date_numeric, format='%Y%m%d')\n",
        "    return None  # Return None if the date is NaN\n",
        "\n",
        "# Apply the conversion function to the 'Date_registration3' column\n",
        "combined_df_unique['Date registration3'] = combined_df_unique['Date registration3'].apply(convert_date)\n",
        "\n",
        "combined_df_unique['First Posted'] = pd.to_datetime(combined_df_unique['First Posted'], errors='coerce')\n",
        "\n",
        "combined_df_unique['Registration_Date'] = combined_df_unique['Date registration3'].combine_first(combined_df_unique['First Posted'])\n",
        "\n",
        "combined_df_unique = combined_df_unique.drop(columns=['Date registration3', 'First Posted'])\n",
        "\n",
        "combined_df_unique.to_csv('allcomb.csv', index=False) #this is the combined NCT and ICTRP data.\n",
        "\n",
        "df_all_dup_removed = pd.read_csv('/content/allcomb.csv')\n",
        "print(f'Total number of trials after duplicate removal: {len(df_all_dup_removed)}')\n",
        "\n",
        "studies_to_compare = df_all_dup_removed"
      ],
      "metadata": {
        "colab": {
          "base_uri": "https://localhost:8080/"
        },
        "id": "cc_19Wvz1OFG",
        "outputId": "2410ff96-9495-4793-9cbf-7ce3f69bd9a9"
      },
      "execution_count": 44,
      "outputs": [
        {
          "output_type": "stream",
          "name": "stdout",
          "text": [
            "Total number of trials after duplicate removal: 1228\n"
          ]
        },
        {
          "output_type": "stream",
          "name": "stderr",
          "text": [
            "<ipython-input-44-bd8584008eef>:8: SettingWithCopyWarning: \n",
            "A value is trying to be set on a copy of a slice from a DataFrame.\n",
            "Try using .loc[row_indexer,col_indexer] = value instead\n",
            "\n",
            "See the caveats in the documentation: https://pandas.pydata.org/pandas-docs/stable/user_guide/indexing.html#returning-a-view-versus-a-copy\n",
            "  combined_df_unique['Date registration3'] = combined_df_unique['Date registration3'].apply(convert_date)\n",
            "<ipython-input-44-bd8584008eef>:10: SettingWithCopyWarning: \n",
            "A value is trying to be set on a copy of a slice from a DataFrame.\n",
            "Try using .loc[row_indexer,col_indexer] = value instead\n",
            "\n",
            "See the caveats in the documentation: https://pandas.pydata.org/pandas-docs/stable/user_guide/indexing.html#returning-a-view-versus-a-copy\n",
            "  combined_df_unique['First Posted'] = pd.to_datetime(combined_df_unique['First Posted'], errors='coerce')\n",
            "<ipython-input-44-bd8584008eef>:12: SettingWithCopyWarning: \n",
            "A value is trying to be set on a copy of a slice from a DataFrame.\n",
            "Try using .loc[row_indexer,col_indexer] = value instead\n",
            "\n",
            "See the caveats in the documentation: https://pandas.pydata.org/pandas-docs/stable/user_guide/indexing.html#returning-a-view-versus-a-copy\n",
            "  combined_df_unique['Registration_Date'] = combined_df_unique['Date registration3'].combine_first(combined_df_unique['First Posted'])\n"
          ]
        }
      ]
    },
    {
      "cell_type": "code",
      "source": [
        "# Read in the CSV and Excel files\n",
        "main_df = pd.read_excel('/content/ct-md-review/old_extracted_data_08162021/extracted_trials.xlsx')\n",
        "\n",
        "# Drop the first row of the main DataFrame and any duplicates based on 'trial-ID/nct-no'\n",
        "main_df = main_df.drop(main_df.index[0:2])  # Drop the first row\n",
        "extracted_studies = main_df[['trial-ID/nct-no','dor']]"
      ],
      "metadata": {
        "id": "eo4zP3r9Ouys"
      },
      "execution_count": 45,
      "outputs": []
    },
    {
      "cell_type": "code",
      "source": [
        "# Step 1: Align/Rename Columns\n",
        "extracted_studies = extracted_studies.rename(columns={'trial-ID/nct-no': 'TrialID', 'dor': 'Registration_Date'})\n",
        "\n",
        "# Step 2: Add an Identifier Column\n",
        "extracted_studies['Source'] = 'old'\n",
        "studies_to_compare['Source'] = 'new'\n",
        "\n",
        "# Step 2: Concatenate DataFrames\n",
        "combined_df = pd.concat([extracted_studies, studies_to_compare], ignore_index=True)\n",
        "\n",
        "# Step 3: Find non-Duplicates\n",
        "non_duplicates = ~combined_df.duplicated(subset=['TrialID'], keep=False)\n",
        "\n",
        "# Extracting duplicates\n",
        "non_duplicate_rows = combined_df[non_duplicates]\n",
        "\n",
        "non_duplicate_rows['Source'].value_counts()"
      ],
      "metadata": {
        "colab": {
          "base_uri": "https://localhost:8080/"
        },
        "id": "eXJnS9RJU8yc",
        "outputId": "12904426-5b47-4cbe-f15f-7b63ddccf4e0"
      },
      "execution_count": 46,
      "outputs": [
        {
          "output_type": "execute_result",
          "data": {
            "text/plain": [
              "new    565\n",
              "old     50\n",
              "Name: Source, dtype: int64"
            ]
          },
          "metadata": {},
          "execution_count": 46
        }
      ]
    },
    {
      "cell_type": "code",
      "source": [
        "non_duplicate_rows.to_csv('/content/ct-md-review/non_duplicate_studies.csv')"
      ],
      "metadata": {
        "id": "ekHt8vQKfTpW"
      },
      "execution_count": 48,
      "outputs": []
    },
    {
      "cell_type": "markdown",
      "source": [
        "Conclusion: 50 trials from prior search were not reproduced in most recent search. There were 713 trails included (i.e., passed duplicate screening and inclusion criteria)"
      ],
      "metadata": {
        "id": "Htq2sAgAnLSL"
      }
    }
  ]
}